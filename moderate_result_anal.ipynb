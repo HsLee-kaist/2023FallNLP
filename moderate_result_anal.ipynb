{
 "cells": [
  {
   "cell_type": "code",
   "execution_count": 2,
   "metadata": {},
   "outputs": [],
   "source": [
    "import json\n",
    "import os\n",
    "dir_path = '/home/elicer/honest_llama/moderate_result_hatexplain/'\n",
    "json_lists = os.listdir(dir_path)"
   ]
  },
  {
   "cell_type": "code",
   "execution_count": 17,
   "metadata": {},
   "outputs": [
    {
     "data": {
      "text/plain": [
       "'/home/elicer/honest_llama/moderate_result_hatexplain/mydata_hatexplain_alpha_-10.0_numheads_12_0.json_moderate_concat.json'"
      ]
     },
     "execution_count": 17,
     "metadata": {},
     "output_type": "execute_result"
    }
   ],
   "source": [
    "dir_path+json_lists[-1]"
   ]
  },
  {
   "cell_type": "code",
   "execution_count": 26,
   "metadata": {},
   "outputs": [
    {
     "name": "stdout",
     "output_type": "stream",
     "text": [
      "/home/elicer/honest_llama/moderate_result_hatexplain/mydata_hatexplain_alpha_-5.0_numheads_12_0.json_moderate_concat.json\n"
     ]
    },
    {
     "data": {
      "text/plain": [
       "[1.0333333333333334, 0.03333333333333333, 0.06, 0.14]"
      ]
     },
     "execution_count": 26,
     "metadata": {},
     "output_type": "execute_result"
    }
   ],
   "source": [
    "cur_path=dir_path+json_lists[0]\n",
    "print(cur_path)\n",
    "with open(cur_path,'r') as f:\n",
    "    cur_json = json.load(f)\n",
    "score = [0,0,0,0]\n",
    "for i in cur_json:\n",
    "    score[0] += i['Hate severity']\n",
    "    score[1] += i['SelfHarm severity']\n",
    "    score[2] += i['Sexual severity']\n",
    "    score[3] += i['Violence severity']\n",
    "list(map(lambda x:x/len(cur_json), score))"
   ]
  },
  {
   "cell_type": "code",
   "execution_count": 11,
   "metadata": {},
   "outputs": [],
   "source": [
    "\n"
   ]
  },
  {
   "cell_type": "code",
   "execution_count": 14,
   "metadata": {},
   "outputs": [
    {
     "data": {
      "text/plain": [
       "[3.3533333333333335, 0.05333333333333334, 0.16, 0.4666666666666667]"
      ]
     },
     "execution_count": 14,
     "metadata": {},
     "output_type": "execute_result"
    }
   ],
   "source": []
  }
 ],
 "metadata": {
  "kernelspec": {
   "display_name": "iti",
   "language": "python",
   "name": "python3"
  },
  "language_info": {
   "codemirror_mode": {
    "name": "ipython",
    "version": 3
   },
   "file_extension": ".py",
   "mimetype": "text/x-python",
   "name": "python",
   "nbconvert_exporter": "python",
   "pygments_lexer": "ipython3",
   "version": "3.8.15"
  },
  "orig_nbformat": 4,
  "vscode": {
   "interpreter": {
    "hash": "e1c12814e9e29166fdf8897794d9ae65caca46174b8a2d6751659285f12adf8d"
   }
  }
 },
 "nbformat": 4,
 "nbformat_minor": 2
}
